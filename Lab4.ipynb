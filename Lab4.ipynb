{
 "cells": [
  {
   "cell_type": "markdown",
   "metadata": {},
   "source": [
    "# Лабораторная работа 4. Реализация стека/дека.\n",
    "Выполнил студент группы БВТ1903 Удалов И.Д."
   ]
  },
  {
   "cell_type": "markdown",
   "metadata": {},
   "source": [
    "Реализовать следующие структуры данных:\n",
    "- Стек (stack):\n",
    "операции для стека: инициализация, проверка на пустоту, добавление нового элемента в начало, извлечение элемента из начала;\n",
    "- Дек (двусторонняя очередь, deque):\n",
    "операции для дека: инициализация, проверка на пустоту, добавление нового элемента в начало, добавление нового элемента в конец,\n",
    "извлечение элемента из начала, извлечение элемента из конца.\n",
    "\n",
    "Разработать программу обработки данных, содержащихся в заранее подготовленном txt-файле, в соответствии с заданиями, применив\n",
    "указанную в задании структуру данных. Результат работы программы вывести на экран и сохранить в отдельном txt-файле.\n",
    "Оформить отчет о лабораторной работе в ipynb или pdf-файле."
   ]
  },
  {
   "cell_type": "code",
   "execution_count": 3,
   "metadata": {},
   "outputs": [],
   "source": [
    "class LinkedNode:\n",
    "    'Связный список с ссылками на обратный и следующий элемент'\n",
    "    def __init__(self, value=None):\n",
    "        self.value = value\n",
    "        self.right = None\n",
    "        self.left = None"
   ]
  },
  {
   "cell_type": "code",
   "execution_count": 4,
   "metadata": {},
   "outputs": [],
   "source": [
    "class Stack:\n",
    "    def __init__(self):\n",
    "        self.head = LinkedNode()\n",
    "        self.size = 0\n",
    "\n",
    "    def is_empty(self):\n",
    "        return self.size == 0\n",
    "\n",
    "    def push(self, value):\n",
    "        if self.size > 0:\n",
    "            node = LinkedNode(value)\n",
    "            node.right = self.head\n",
    "            self.head = node\n",
    "        else:\n",
    "            self.head.value = value\n",
    "        self.size += 1\n",
    "      \n",
    "    def pop(self):\n",
    "        if self.is_empty():\n",
    "            raise Exception(\"Popping from an empty stack\")\n",
    "        remove = self.head\n",
    "        if self.size > 1:\n",
    "            self.head = remove.right\n",
    "        self.size -= 1\n",
    "        return remove.value\n",
    "    \n",
    "    def peek(self):\n",
    "        if self.is_empty():\n",
    "            raise Exception(\"Popping from an empty stack\")\n",
    "        return self.head.value\n",
    "    \n",
    "    def __len__(self):\n",
    "        return self.size\n",
    "\n",
    "    def reverse(self):\n",
    "        current = self.head\n",
    "        prev = None\n",
    "        next = None\n",
    "    \n",
    "        while current is not None:\n",
    "            next = current.right\n",
    "            current.right = prev\n",
    "            prev = current\n",
    "            current = next\n",
    "\n",
    "        self.head = prev"
   ]
  },
  {
   "cell_type": "code",
   "execution_count": 5,
   "metadata": {},
   "outputs": [],
   "source": [
    "class Deque:\n",
    "    def __init__(self):\n",
    "        self.head = LinkedNode()\n",
    "        self.tail = self.head\n",
    "        self.size = 0\n",
    "    \n",
    "    def is_empty(self):\n",
    "        return self.size == 0\n",
    "\n",
    "    def push_left(self, value):\n",
    "        if self.size > 0:\n",
    "            node = LinkedNode(value)\n",
    "            node.right = self.tail\n",
    "            self.tail.left = node\n",
    "            self.tail = node\n",
    "        else:\n",
    "            self.tail.value = value\n",
    "        self.size += 1\n",
    "\n",
    "    def push(self, value):\n",
    "        if self.size > 0:\n",
    "            node = LinkedNode(value)\n",
    "            node.left = self.head\n",
    "            self.head.right = node\n",
    "            self.head = node\n",
    "        else:\n",
    "            self.head.value = value\n",
    "        self.size += 1\n",
    "    \n",
    "    def pop_left(self):\n",
    "        if self.is_empty():\n",
    "            raise Exception(\"Popping from an empty deque\")\n",
    "        remove = self.tail\n",
    "        if self.size > 1:\n",
    "            self.tail = remove.right\n",
    "        self.size -= 1\n",
    "        return remove.value\n",
    "    \n",
    "    def pop(self):\n",
    "        if self.is_empty():\n",
    "            raise Exception(\"Popping from an empty deque\")\n",
    "        remove = self.head\n",
    "        if self.size > 1:\n",
    "            self.head = remove.left\n",
    "        self.size -= 1\n",
    "        return remove.value\n",
    "    \n",
    "    def peek(self):\n",
    "        if self.is_empty():\n",
    "            raise Exception(\"Popping from an empty deque\")\n",
    "        return self.head.value\n",
    "    \n",
    "    def peek_left(self):\n",
    "        if self.is_empty():\n",
    "            raise Exception(\"Popping from an empty deque\")\n",
    "        return self.tail.value\n",
    "\n",
    "    def __len__(self):\n",
    "        return self.size"
   ]
  },
  {
   "cell_type": "markdown",
   "metadata": {},
   "source": [
    "### Задания:"
   ]
  },
  {
   "cell_type": "markdown",
   "metadata": {},
   "source": [
    "1. Отсортировать строки файла, содержащие названия книг, в алфавитном порядке с использованием двух деков."
   ]
  },
  {
   "cell_type": "code",
   "execution_count": 56,
   "metadata": {},
   "outputs": [],
   "source": [
    "def task01(pathfile):\n",
    "    with open(pathfile, 'r', encoding='utf-8') as books:\n",
    "        q1 = Deque()\n",
    "        q2 = Deque()\n",
    "        for book in books:\n",
    "            q1.push(book)\n",
    "        while not q1.is_empty():\n",
    "            x = q1.pop()\n",
    "            while not q2.is_empty() and q2.peek() > x:\n",
    "                q1.push_left(q2.pop())\n",
    "            q2.push(x)\n",
    "        while not q2.is_empty():\n",
    "            print(q2.pop_left())"
   ]
  },
  {
   "cell_type": "code",
   "execution_count": 57,
   "metadata": {},
   "outputs": [
    {
     "name": "stdout",
     "output_type": "stream",
     "text": [
      "Алые паруса\n",
      "\n",
      "Бесы\n",
      "\n",
      "Братья Карамазовы\n",
      "\n",
      "Война и мир\n",
      "\n",
      "Герой нашего времени\n",
      "\n",
      "Граф Монте-Кристо\n",
      "\n",
      "Двенадцать стульев\n",
      "\n",
      "Джейн Эйр\n",
      "\n",
      "Евгений Онегин\n",
      "\n",
      "Идиот\n",
      "\n",
      "Капитанская дочка\n",
      "\n",
      "Мастер и Маргарита\n",
      "\n",
      "Отцы и дети\n",
      "\n",
      "Преступление и наказание\n",
      "\n",
      "Собачье сердце\n",
      "\n",
      "Три мушкетера\n",
      "\n",
      "Три товарища\n",
      "\n",
      "Униженные и оскорблённые\n",
      "\n",
      "Человек-амфибия\n",
      "\n",
      "Шинель\n",
      "\n"
     ]
    }
   ],
   "source": [
    "task01('books1.txt')"
   ]
  },
  {
   "cell_type": "markdown",
   "metadata": {},
   "source": [
    "2. Дек содержит последовательность символов для шифровки сообщений. Дан текстовый файл, содержащий зашифрованное сообщение. Пользуясь деком, расшифровать текст. Известно, что при шифровке каждый символ сообщения заменялся следующим за ним в деке по часовой стрелке через один."
   ]
  },
  {
   "cell_type": "code",
   "execution_count": 16,
   "metadata": {},
   "outputs": [],
   "source": [
    "def alph(alphabet):\n",
    "    alphabet = list('абвгдеёжзийклмнопрстуфхцчшщъыьэюя')\n",
    "    keyRing = Deque()\n",
    "    for letter in alphabet:\n",
    "        keyRing.push(letter)"
   ]
  },
  {
   "cell_type": "code",
   "execution_count": 17,
   "metadata": {},
   "outputs": [],
   "source": [
    "def encode_char(c):\n",
    "    for i in range(len(keyRing)):\n",
    "        x = keyRing.pop_left()\n",
    "        if x == c:\n",
    "            keyRing.push(x)\n",
    "            val = keyRing.pop_left()\n",
    "            keyRing.push(val)\n",
    "            return val\n",
    "        keyRing.push(x)\n",
    "\n",
    "def decode_char(c):\n",
    "    for i in range(len(keyRing)):\n",
    "        x = keyRing.pop()\n",
    "        if x == c:\n",
    "            keyRing.push_left(x)\n",
    "            val = keyRing.pop()\n",
    "            keyRing.push_left(val)\n",
    "            return val\n",
    "        keyRing.push_left(x)"
   ]
  },
  {
   "cell_type": "code",
   "execution_count": 34,
   "metadata": {},
   "outputs": [],
   "source": [
    "def task02(text):\n",
    "    encoded = ''\n",
    "    for letter in text:\n",
    "        if encoded_letter := encode_char(letter): encoded += encoded_letter\n",
    "        else: encoded += letter\n",
    "    print(\"Зашифрованный текст:\\n\", encoded, \"\\n\")\n",
    "\n",
    "    decoded = ''\n",
    "    for letter in encoded:\n",
    "        if decoded_letter := decode_char(letter): decoded += decoded_letter\n",
    "        else: decoded += letter\n",
    "    print(\"Расшифрованный текст:\\n\", decoded)"
   ]
  },
  {
   "cell_type": "code",
   "execution_count": 35,
   "metadata": {},
   "outputs": [
    {
     "name": "stdout",
     "output_type": "stream",
     "text": [
      "Зашифрованный текст:\n",
      " Дёл — мйоёкоба тусфлуфсб, г лпупспк прёсбчйй глмяшёойа й йтлмяшёойа юмёнёоупг нпдфу гьрпмоауэта лбл т пеопдп, убл й т есфдпдп лпочб рптмёепгбуёмэоптуй. Дёл — тйнвйпи туёлб й пшёсёей, уп ётуэ ейтчйрмйобнй пвтмфзйгбойа агмаяута пеопгсёнёооп LIFO й FIFO. \n",
      "\n",
      "Расшифрованный текст:\n",
      " Дек — линейная структура, в которой операции включения и исключения элементов могут выполняться как с одного, так и с другого конца последовательности. Дек — симбиоз стека и очереди, то есть дисциплинами обслуживания являются одновременно LIFO и FIFO.\n"
     ]
    }
   ],
   "source": [
    "inputText = 'Дек — линейная структура, в которой операции включения и исключения элементов могут выполняться как с одного, так и с другого конца последовательности. Дек — симбиоз стека и очереди, то есть дисциплинами обслуживания являются одновременно LIFO и FIFO.'\n",
    "task02(inputText)"
   ]
  },
  {
   "cell_type": "markdown",
   "metadata": {},
   "source": [
    "3. Даны три стержня и n дисков различного размера. Диски можно надевать на стержни, образуя из них башни. Перенести n дисков со стержня А на стержень С, сохранив их первоначальный порядок. При переносе дисков необходимо соблюдать следующие правила:\n",
    "- на каждом шаге со стержня на стержень переносить только один диск;\n",
    "- диск нельзя помещать на диск меньшего размера;\n",
    "- для промежуточного хранения можно использовать стержень В.\n",
    "\n",
    "Реализовать алгоритм, используя три стека вместо стержней А, В и С."
   ]
  },
  {
   "cell_type": "code",
   "execution_count": 36,
   "metadata": {},
   "outputs": [],
   "source": [
    "def move(a, b):\n",
    "    if len(a) == 0 and len(b) > 0:\n",
    "        a.push(b.pop())\n",
    "    elif len(a) > 0 and len(b) == 0:\n",
    "        b.push(a.pop())\n",
    "    elif a.peek() > b.peek():\n",
    "        a.push(b.pop())\n",
    "    else:\n",
    "        b.push(a.pop())"
   ]
  },
  {
   "cell_type": "code",
   "execution_count": 37,
   "metadata": {},
   "outputs": [],
   "source": [
    "def task03(disks):\n",
    "    A = Stack()\n",
    "    B = Stack()\n",
    "    C = Stack()\n",
    "\n",
    "    for i in range(disks, 0, -1):\n",
    "        A.push(i)\n",
    "\n",
    "    if disks % 2 == 0:\n",
    "        while len(C) != disks:\n",
    "            move(A, B)\n",
    "            move(A, C)\n",
    "            move(B, C)\n",
    "    else:\n",
    "        while len(C) != disks:\n",
    "            move(A, C)\n",
    "            move(A, B)\n",
    "            move(B, C)\n",
    "\n",
    "    while not C.is_empty():\n",
    "        print(C.pop())"
   ]
  },
  {
   "cell_type": "code",
   "execution_count": 38,
   "metadata": {},
   "outputs": [
    {
     "name": "stdout",
     "output_type": "stream",
     "text": [
      "1\n",
      "2\n",
      "3\n",
      "4\n",
      "5\n",
      "6\n"
     ]
    }
   ],
   "source": [
    "task03(6)"
   ]
  },
  {
   "cell_type": "markdown",
   "metadata": {},
   "source": [
    "4. Дан текстовый файл с программой на алгоритмическом языке. За один просмотр файла проверить баланс круглых скобок в тексте, используя стек."
   ]
  },
  {
   "cell_type": "code",
   "execution_count": 39,
   "metadata": {},
   "outputs": [
    {
     "name": "stdout",
     "output_type": "stream",
     "text": [
      "False\n",
      "False\n",
      "True\n"
     ]
    }
   ],
   "source": [
    "def task04(string):\n",
    "    bracket_stack = Stack()\n",
    "    for i in string:\n",
    "        if i == '(':\n",
    "            bracket_stack.push(i)\n",
    "        elif i == ')':\n",
    "            if bracket_stack.is_empty():\n",
    "                return False\n",
    "            bracket_stack.pop()\n",
    "    return bracket_stack.is_empty()\n",
    "\n",
    "print(task04('()(())((())(()(())()'))\n",
    "print(task04('(()()))(()())(())())'))\n",
    "print(task04('(()())()()()()(()(()(())()))'))"
   ]
  },
  {
   "cell_type": "markdown",
   "metadata": {},
   "source": [
    "5. Дан текстовый файл с программой на алгоритмическом языке. За один просмотр файла проверить баланс квадратных скобок в тексте, используя дек."
   ]
  },
  {
   "cell_type": "code",
   "execution_count": 40,
   "metadata": {},
   "outputs": [
    {
     "name": "stdout",
     "output_type": "stream",
     "text": [
      "False\n",
      "False\n",
      "True\n"
     ]
    }
   ],
   "source": [
    "def task05(string):\n",
    "    bracket_stack = Deque()\n",
    "    for i in string:\n",
    "        if i == '[':\n",
    "            bracket_stack.push(i)\n",
    "        elif i == ']':\n",
    "            if bracket_stack.is_empty():\n",
    "                return False\n",
    "            bracket_stack.pop()\n",
    "    return bracket_stack.is_empty()\n",
    "\n",
    "print(task05('[][[][[[[]][[]]]]]]'))\n",
    "print(task05('[]][[][][[[[]]]]]'))\n",
    "print(task05('[[][][][[][]][][[][][][][]]][]'))"
   ]
  },
  {
   "cell_type": "markdown",
   "metadata": {},
   "source": [
    "6. Дан файл из символов. Используя стек, за один просмотр файла напечатать сначала все цифры, затем все буквы, и, наконец, все остальные символы, сохраняя исходный порядок в каждой группе символов."
   ]
  },
  {
   "cell_type": "code",
   "execution_count": 43,
   "metadata": {},
   "outputs": [],
   "source": [
    "def task06(text):\n",
    "    letters = Stack()\n",
    "    digits = Stack()\n",
    "    others = Stack()\n",
    "\n",
    "    for c in text:\n",
    "        if c.isalpha(): letters.push(c)\n",
    "        elif c.isdigit(): digits.push(c)\n",
    "        else: others.push(c)\n",
    "\n",
    "    new_text = ''\n",
    "\n",
    "    letters.reverse()\n",
    "    digits.reverse()\n",
    "    others.reverse()\n",
    "\n",
    "    while not digits.is_empty():\n",
    "        new_text += digits.pop()\n",
    "\n",
    "    while not letters.is_empty():\n",
    "        new_text += letters.pop()\n",
    "\n",
    "    while not others.is_empty():\n",
    "        new_text += others.pop()\n",
    "\n",
    "    print(new_text)"
   ]
  },
  {
   "cell_type": "code",
   "execution_count": 44,
   "metadata": {},
   "outputs": [
    {
     "name": "stdout",
     "output_type": "stream",
     "text": [
      "3474488545756257896454789645324726436Стекэтообластьоперативнойпамятикотораяработаетвпорядкепоследнийдобавленныйвстеккусокпамятибудетпервымвочерединавывод —    ,                   .\n"
     ]
    }
   ],
   "source": [
    "text = 'Стек — это347448 область опе8545ративной памяти, ко 75625торая работает в поряд7896ке 45посл478едний добавленный в 96стек кусок памяти буд453247ет первым в  26436 очереди на вывод.'\n",
    "task06(text)"
   ]
  },
  {
   "cell_type": "markdown",
   "metadata": {},
   "source": [
    "7. Дан файл из целых чисел. Используя дек, за один просмотр файла напечатать сначала все отрицательные числа, затем все положительные числа, сохраняя исходный порядок в каждой группе."
   ]
  },
  {
   "cell_type": "code",
   "execution_count": 52,
   "metadata": {},
   "outputs": [],
   "source": [
    "import random"
   ]
  },
  {
   "cell_type": "code",
   "execution_count": 53,
   "metadata": {},
   "outputs": [],
   "source": [
    "def task07(numbers):\n",
    "    deque = Deque()\n",
    "    for n in numbers:\n",
    "        if n < 0:\n",
    "            deque.push_left(n)\n",
    "        else:\n",
    "            deque.push(n)\n",
    "\n",
    "    while not deque.is_empty():\n",
    "        x = deque.pop_left()\n",
    "        if x < 0:\n",
    "            deque.push(x)\n",
    "        else:\n",
    "            deque.push_left(x)\n",
    "            break\n",
    "\n",
    "    while not deque.is_empty():\n",
    "        x = deque.pop()\n",
    "        if x < 0:\n",
    "            print(x)\n",
    "        else:\n",
    "            deque.push(x)\n",
    "            break\n",
    "\n",
    "    while not deque.is_empty():\n",
    "        print(deque.pop_left())"
   ]
  },
  {
   "cell_type": "code",
   "execution_count": 55,
   "metadata": {},
   "outputs": [
    {
     "name": "stdout",
     "output_type": "stream",
     "text": [
      "[-8, -2, -7, 0, 1, 3, -3, 3, 4, -6]\n",
      "-8\n",
      "-2\n",
      "-7\n",
      "-3\n",
      "-6\n",
      "0\n",
      "1\n",
      "3\n",
      "3\n",
      "4\n"
     ]
    }
   ],
   "source": [
    "numbers = [random.randint(-10, 10) for i in range(10)]\n",
    "print(numbers)\n",
    "\n",
    "task07(numbers)"
   ]
  },
  {
   "cell_type": "markdown",
   "metadata": {},
   "source": [
    "8. Дан текстовый файл. Используя стек, сформировать новый текстовый файл, содержащий строки исходного файла, записанные в обратном порядке: первая строка становится последней, вторая – предпоследней и т.д."
   ]
  },
  {
   "cell_type": "code",
   "execution_count": 60,
   "metadata": {},
   "outputs": [],
   "source": [
    "def task08(pathfile):\n",
    "    with open(pathfile, 'r', encoding='utf-8') as books:\n",
    "        stack = Stack()\n",
    "        for book in books:\n",
    "            book = book.strip()\n",
    "            stack.push(book)\n",
    "        print()\n",
    "        while not stack.is_empty():\n",
    "            print(stack.pop())"
   ]
  },
  {
   "cell_type": "code",
   "execution_count": 61,
   "metadata": {},
   "outputs": [
    {
     "name": "stdout",
     "output_type": "stream",
     "text": [
      "\n",
      "Шинель\n",
      "Алые паруса\n",
      "Человек-амфибия\n",
      "Джейн Эйр\n",
      "Бесы\n",
      "Герой нашего времени\n",
      "Униженные и оскорблённые\n",
      "Капитанская дочка\n",
      "Три мушкетера\n",
      "Евгений Онегин\n",
      "Идиот\n",
      "Братья Карамазовы\n",
      "Три товарища\n",
      "Граф Монте-Кристо\n",
      "Отцы и дети\n",
      "Преступление и наказание\n",
      "Война и мир\n",
      "Собачье сердце\n",
      "Двенадцать стульев\n",
      "Мастер и Маргарита\n"
     ]
    }
   ],
   "source": [
    "task08('books1.txt')"
   ]
  },
  {
   "cell_type": "markdown",
   "metadata": {},
   "source": [
    "9. Дан текстовый файл. Используя стек, вычислить значение логического выражения, записанного в текстовом файле в следующей форме:\n",
    "\n",
    "<ЛВ> ::= T|F|(N<ЛВ>)|(<ЛВ>A<ЛВ>)|(<ЛВ>X<ЛВ>)|(<ЛВ>O<ЛВ>)\n",
    "\n",
    "где буквами обозначены логические константы и операции:\n",
    "\n",
    "T - True,\n",
    "\n",
    "F - False,\n",
    "\n",
    "N - Not,\n",
    "\n",
    "A - And,\n",
    "\n",
    "X - Xor,\n",
    "\n",
    "O - Or."
   ]
  },
  {
   "cell_type": "code",
   "execution_count": 6,
   "metadata": {},
   "outputs": [],
   "source": [
    "def task09(text):\n",
    "    opstack = Stack()\n",
    "    vstack = Stack()\n",
    "\n",
    "    cur = 0\n",
    "    while True:\n",
    "        read = False\n",
    "        if not opstack.is_empty():\n",
    "            if opstack.peek() == 'N':\n",
    "                if vstack.is_empty():\n",
    "                    read = True\n",
    "                else:\n",
    "                    if vstack.pop() == 'T':\n",
    "                        vstack.push('F')\n",
    "                    else:\n",
    "                        vstack.push('T')\n",
    "                    opstack.pop()\n",
    "            elif opstack.peek() == 'A':\n",
    "                if len(vstack) < 2:\n",
    "                    read = True\n",
    "                else:\n",
    "                    a = vstack.pop()\n",
    "                    b = vstack.pop()\n",
    "                    if a == b and b == 'T':\n",
    "                        vstack.push('T')\n",
    "                    else:\n",
    "                        vstack.push('F')\n",
    "                    opstack.pop()\n",
    "            elif opstack.peek() == 'O':\n",
    "                if len(vstack) < 2:\n",
    "                    read = True\n",
    "                else:\n",
    "                    a = vstack.pop()\n",
    "                    b = vstack.pop()\n",
    "                    if a == 'T' or b == 'T':\n",
    "                        vstack.push('T')\n",
    "                    else:\n",
    "                        vstack.push('F')\n",
    "                    opstack.pop()\n",
    "            elif opstack.peek() == 'X':\n",
    "                if len(vstack) < 2:\n",
    "                    read = True\n",
    "                else:\n",
    "                    a = vstack.pop()\n",
    "                    b = vstack.pop()\n",
    "                    if a != b:\n",
    "                        vstack.push('T')\n",
    "                    else:\n",
    "                        vstack.push('F')\n",
    "                    opstack.pop()\n",
    "            elif opstack.peek() == '(':\n",
    "                read = True\n",
    "            elif opstack.peek() == ')':\n",
    "                opstack.pop()\n",
    "                opstack.pop()\n",
    "        else:\n",
    "            read = True\n",
    "        if read:\n",
    "            i = text[cur]\n",
    "            if i in 'FT':\n",
    "                vstack.push(i)\n",
    "            if i in 'AXON()':\n",
    "                opstack.push(i)\n",
    "            cur += 1\n",
    "    \n",
    "\n",
    "        if cur == len(text) and len(opstack) == 0:\n",
    "            break\n",
    "\n",
    "    while not vstack.is_empty():\n",
    "        print(vstack.pop())"
   ]
  },
  {
   "cell_type": "code",
   "execution_count": 7,
   "metadata": {},
   "outputs": [
    {
     "name": "stdout",
     "output_type": "stream",
     "text": [
      "T\n"
     ]
    }
   ],
   "source": [
    "text = '((T)XF)X(TAT)OT'\n",
    "task09(text)"
   ]
  },
  {
   "cell_type": "markdown",
   "metadata": {},
   "source": [
    "10. Дан текстовый файл. В текстовом файле записана формула следующего вида:\n",
    "\n",
    "<Формула> ::= <Цифра>|M(<Формула>,<Формула>)|N(<Формула>,<Формула>)\n",
    "\n",
    "<Цифра> ::= 0|1|2|3|4|5|6|7|8|9\n",
    "\n",
    "где буквами обозначены функции:\n",
    "M - определение максимума,\n",
    "N - определение минимума.\n",
    "Используя стек, вычислить значение заданного выражения."
   ]
  },
  {
   "cell_type": "code",
   "execution_count": 10,
   "metadata": {},
   "outputs": [],
   "source": [
    "def task10(text):\n",
    "    op = Stack()\n",
    "    nums = Stack()\n",
    "\n",
    "    num = ''\n",
    "\n",
    "    cur = 0\n",
    "    while cur < len(text):\n",
    "        i = text[cur]\n",
    "        if i.isdigit():\n",
    "            num += i\n",
    "        elif num != '':\n",
    "            nums.push(int(num))\n",
    "            num = ''\n",
    "        if i in 'MN':\n",
    "            op.push(i)\n",
    "        cur += 1\n",
    "\n",
    "    while not op.is_empty():\n",
    "        a = nums.pop()\n",
    "        b = nums.pop()\n",
    "        if a < b:\n",
    "            a,b = b,a\n",
    "        if op.pop() == 'M':\n",
    "            nums.push(a)\n",
    "        else:\n",
    "            nums.push(b)\n",
    "\n",
    "    while not nums.is_empty():\n",
    "        print(nums.pop())"
   ]
  },
  {
   "cell_type": "code",
   "execution_count": 11,
   "metadata": {},
   "outputs": [
    {
     "name": "stdout",
     "output_type": "stream",
     "text": [
      "7\n"
     ]
    }
   ],
   "source": [
    "text = 'N(10, M(4, N(8, M(7, M(6, M(5, 4))))))'\n",
    "task10(text)"
   ]
  },
  {
   "cell_type": "markdown",
   "metadata": {},
   "source": [
    "11. Дан текстовый файл. Используя стек, проверить, является ли содержимое текстового файла правильной записью формулы вида:\n",
    "\n",
    "<Формула> ::= <Терм> | <Терм> + <Формула> | <Терм> - <Формула>\n",
    "\n",
    "<Терм> ::= <Имя> | (<Формула>)\n",
    "\n",
    "<Имя> ::= x | y | z"
   ]
  },
  {
   "cell_type": "code",
   "execution_count": 12,
   "metadata": {},
   "outputs": [
    {
     "data": {
      "text/plain": [
       "True"
      ]
     },
     "execution_count": 12,
     "metadata": {},
     "output_type": "execute_result"
    }
   ],
   "source": [
    "def check(text):\n",
    "    stack = Stack()\n",
    "    \n",
    "    cur = 0\n",
    "    while True:\n",
    "        read = False\n",
    "        if not stack.is_empty():\n",
    "            if stack.peek() == '(':\n",
    "                read = True\n",
    "            elif stack.peek() == ')':\n",
    "                stack.pop()\n",
    "                if len(stack) < 2 or stack.pop() != 'formula' or stack.pop() != '(':\n",
    "                    return False\n",
    "                stack.push('formula')\n",
    "            elif stack.peek() == 'formula':\n",
    "                stack.pop()\n",
    "                if len(stack) > 1 and stack.peek() in '+-':\n",
    "                    if stack.pop() in '+-' and stack.pop() == 'formula':\n",
    "                        stack.push('formula')\n",
    "                    else:\n",
    "                        return False\n",
    "                else:\n",
    "                    stack.push('formula')\n",
    "                    read = True\n",
    "            else:\n",
    "                read = True\n",
    "        else:\n",
    "            read = True\n",
    "        if read:\n",
    "            i = text[cur]\n",
    "            if i in 'xyz':\n",
    "                stack.push('formula')\n",
    "            elif i in '()+-':\n",
    "                stack.push(i)\n",
    "            cur += 1\n",
    "        if cur == len(text) and len(stack) == 1:\n",
    "            break\n",
    "    return True\n",
    "\n",
    "check('((x + y) + (x - y) + z)')"
   ]
  },
  {
   "cell_type": "markdown",
   "metadata": {},
   "source": [
    "### Вывод: в ходе данной лабораторной работы я научился работать со стеком и деком, применять их использование в решение задач."
   ]
  }
 ],
 "metadata": {
  "kernelspec": {
   "display_name": "Python 3",
   "language": "python",
   "name": "python3"
  },
  "language_info": {
   "codemirror_mode": {
    "name": "ipython",
    "version": 3
   },
   "file_extension": ".py",
   "mimetype": "text/x-python",
   "name": "python",
   "nbconvert_exporter": "python",
   "pygments_lexer": "ipython3",
   "version": "3.8.5"
  }
 },
 "nbformat": 4,
 "nbformat_minor": 4
}
